{
 "cells": [
  {
   "cell_type": "code",
   "execution_count": null,
   "id": "cd6f7d99-ffd5-458e-9b94-cc2579bb3f3c",
   "metadata": {},
   "outputs": [],
   "source": [
    "# Import required libraries for document processing and AI interactions\n",
    "\n",
    "import os\n",
    "import glob\n",
    "from dotenv import load_dotenv\n",
    "import gradio as gr\n",
    "from langchain.document_loaders import DirectoryLoader, TextLoader\n",
    "from langchain.text_splitter import CharacterTextSplitter\n",
    "from langchain.schema import Document\n",
    "from langchain_openai import OpenAIEmbeddings, ChatOpenAI\n",
    "from langchain_chroma import Chroma\n",
    "import matplotlib.pyplot as plt\n",
    "from sklearn.manifold import TSNE\n",
    "import numpy as np\n",
    "import plotly.graph_objects as go\n",
    "from langchain.memory import ConversationBufferMemory\n",
    "from langchain.chains import ConversationalRetrievalChain\n",
    "from langchain.embeddings import HuggingFaceEmbeddings"
   ]
  },
  {
   "cell_type": "code",
   "execution_count": null,
   "id": "98b2d95f-a560-4279-b982-ca11df6cb9f5",
   "metadata": {},
   "outputs": [],
   "source": [
    "# the model I am going to use\n",
    "MODEL = \"gpt-4o-mini\"\n",
    "\n",
    "#the vector database name\n",
    "db_name = \"personal_vector_db\""
   ]
  },
  {
   "cell_type": "code",
   "execution_count": null,
   "id": "4b6d36b0-0598-41a9-8c45-abafd3df42e3",
   "metadata": {},
   "outputs": [],
   "source": [
    "# Load API key from .env file and ensure it is set in the environment\n",
    "load_dotenv(override=True)\n",
    "os.environ['OPENAI_API_KEY'] = os.getenv('OPENAI_API_KEY')"
   ]
  },
  {
   "cell_type": "code",
   "execution_count": null,
   "id": "0526e5fc-f544-488c-b613-8cfbd989c1e6",
   "metadata": {},
   "outputs": [],
   "source": [
    "#Get a list of all files and folders inside 'personal-knowledge-base/'\n",
    "folders = glob.glob(\"personal-knowledge-base/*\")\n",
    "\n",
    "def add_metadata(doc, doc_type):\n",
    "    doc.metadata[\"doc_type\"] = doc_type\n",
    "    return doc\n",
    "\n",
    "text_loader_kwargs = {'encoding': 'utf-8'}\n",
    "#if this doesn't work as it should\n",
    "# text_loader_kwargs={'autodetect_encoding': True}"
   ]
  },
  {
   "cell_type": "code",
   "execution_count": null,
   "id": "e054c001-9da0-4592-af36-f8df22ce2031",
   "metadata": {},
   "outputs": [],
   "source": [
    "\n",
    "documents = []\n",
    "for folder in folders:\n",
    "     # Get the folder name as the document type\n",
    "    doc_type = os.path.basename(folder)\n",
    "    # Load all Markdown files from the folder\n",
    "    loader = DirectoryLoader(folder, glob=\"**/*.md\", loader_cls=TextLoader, loader_kwargs=text_loader_kwargs)\n",
    "    folder_docs = loader.load()\n",
    "    #adds metadata to the documents\n",
    "    documents.extend([add_metadata(doc, doc_type) for doc in folder_docs])\n"
   ]
  },
  {
   "cell_type": "code",
   "execution_count": null,
   "id": "60268120-e9e9-49db-9c5e-7a83d4cb53a1",
   "metadata": {},
   "outputs": [],
   "source": [
    "# Split text into chunks of 1000 characters with 200-character overlap\n",
    "text_splitter = CharacterTextSplitter(chunk_size=1000, chunk_overlap=200)\n",
    "\n",
    "chunks = text_splitter.split_documents(documents)\n",
    "\n",
    "print(f\"Total number of chunks: {len(chunks)}\")\n",
    "print(f\"Document types found: {set(doc.metadata['doc_type'] for doc in documents)}\")"
   ]
  },
  {
   "cell_type": "code",
   "execution_count": null,
   "id": "05095962-da59-4763-ac63-f1f3cbcdec03",
   "metadata": {},
   "outputs": [],
   "source": [
    "embeddings = OpenAIEmbeddings()\n",
    "# if vector base exists, delete it and make it again\n",
    "if os.path.exists(db_name):\n",
    "    #deleting the vector base\n",
    "    Chroma(persist_directory=db_name, embedding_function=embeddings).delete_collection()\n",
    "#creating the vector base\n",
    "vectorstore = Chroma.from_documents(documents=chunks, embedding=embeddings, persist_directory=db_name)\n",
    "\n",
    "print(f\"Vectorstore created with {vectorstore._collection.count()} documents\")"
   ]
  },
  {
   "cell_type": "code",
   "execution_count": null,
   "id": "44899123-7c6d-4c25-889e-d3c544b0c50b",
   "metadata": {},
   "outputs": [],
   "source": [
    "# Initialize the language model with a specified temperature for response variability\n",
    "llm = ChatOpenAI(temperature=0.7, model_name=MODEL)\n",
    "\n",
    "# Create a memory buffer to store chat history for conversational context\n",
    "\n",
    "# I am using this, but it will get depricated soon, memory_key='chat_history'\n",
    "memory = ConversationBufferMemory(memory_key='chat_history', return_messages=True)\n",
    "\n",
    "# Convert the vector store into a retriever for document search\n",
    "retriever = vectorstore.as_retriever()\n",
    "\n",
    "# Create a conversational chain that integrates the language model, retriever, and memory\n",
    "conversation_chain = ConversationalRetrievalChain.from_llm(llm=llm, retriever=retriever, memory=memory)"
   ]
  },
  {
   "cell_type": "code",
   "execution_count": null,
   "id": "b06d5dbf-b412-436b-bde7-41be26f07f7b",
   "metadata": {},
   "outputs": [],
   "source": [
    "\n",
    "#this is to see that the code is working\n",
    "query = \"what tasks do I have to do today?\"# I gave it a list of my tasks for today, so that there would be something easy to test it with\n",
    "result = conversation_chain.invoke({\"question\": query})\n",
    "print(result[\"answer\"])\n",
    "\n"
   ]
  },
  {
   "cell_type": "code",
   "execution_count": null,
   "id": "98e2a036-f544-4c07-926b-b46412b50284",
   "metadata": {},
   "outputs": [],
   "source": [
    "#clear conversation history\n",
    "memory = ConversationBufferMemory(memory_key='chat_history', return_messages=True)\n",
    "\n",
    "conversation_chain = ConversationalRetrievalChain.from_llm(llm=llm, retriever=retriever, memory=memory)"
   ]
  },
  {
   "cell_type": "code",
   "execution_count": null,
   "id": "8cb9886c-bd54-4ccd-93d3-595819583af9",
   "metadata": {},
   "outputs": [],
   "source": [
    "# chat function is made, because Gradio requires function of type chat(question, history) to make a chat interface\n",
    "def chat(question, history):\n",
    "    result = conversation_chain.invoke({\"question\": question})\n",
    "    return result[\"answer\"]"
   ]
  },
  {
   "cell_type": "code",
   "execution_count": null,
   "id": "21b204db-9a9f-4b07-b9c4-0005b7cd948f",
   "metadata": {},
   "outputs": [],
   "source": [
    "# Launching Gradio in a new browser window\n",
    "gr.ChatInterface(chat, type=\"messages\").launch(inbrowser=True)"
   ]
  },
  {
   "cell_type": "code",
   "execution_count": null,
   "id": "b74e496d-e66e-4aa8-a534-d5257234c3e5",
   "metadata": {},
   "outputs": [],
   "source": []
  }
 ],
 "metadata": {
  "kernelspec": {
   "display_name": "Python 3 (ipykernel)",
   "language": "python",
   "name": "python3"
  },
  "language_info": {
   "codemirror_mode": {
    "name": "ipython",
    "version": 3
   },
   "file_extension": ".py",
   "mimetype": "text/x-python",
   "name": "python",
   "nbconvert_exporter": "python",
   "pygments_lexer": "ipython3",
   "version": "3.11.11"
  }
 },
 "nbformat": 4,
 "nbformat_minor": 5
}
